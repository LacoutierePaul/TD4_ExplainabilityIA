{
 "cells": [
  {
   "cell_type": "code",
   "execution_count": 19,
   "metadata": {},
   "outputs": [],
   "source": [
    "import numpy as np\n",
    "import pandas as pd\n",
    "import matplotlib.pyplot as plt\n",
    "import seaborn as sns\n",
    "from sklearn.preprocessing import StandardScaler"
   ]
  },
  {
   "cell_type": "code",
   "execution_count": 20,
   "metadata": {},
   "outputs": [
    {
     "name": "stdout",
     "output_type": "stream",
     "text": [
      "(4898, 12)\n",
      "(1599, 12)\n"
     ]
    }
   ],
   "source": [
    "# Import the dataset\n",
    "white_wine_data=pd.read_csv('wine+quality/winequality-white.csv',sep=';')\n",
    "red_wine_data=pd.read_csv('wine+quality/winequality-red.csv',sep=';')\n",
    "\n",
    "print(white_wine_data.shape)\n",
    "print(red_wine_data.shape)"
   ]
  },
  {
   "cell_type": "markdown",
   "metadata": {},
   "source": [
    "## Question 4\n",
    "Let’s do a linear regression.  \n",
    "• Do the variable transformations that are needed (on hot encoding, log etc...)  \n",
    "• Fit the linear regression  \n",
    "• Interpret the coefficients of your regression  \n",
    "• Does any coefficient contradict your intuition?  \n"
   ]
  },
  {
   "cell_type": "markdown",
   "metadata": {},
   "source": [
    "### Linear Regression model"
   ]
  },
  {
   "cell_type": "code",
   "execution_count": 21,
   "metadata": {},
   "outputs": [
    {
     "name": "stdout",
     "output_type": "stream",
     "text": [
      "coef :  [ 6.55199614e-02 -1.86317709e+00  2.20902007e-02  8.14828026e-02\n",
      " -2.47276537e-01  3.73276519e-03 -2.85747419e-04 -1.50284181e+02\n",
      "  6.86343742e-01  6.31476473e-01  1.93475697e-01]\n",
      "intercept_ :  150.19284248121488\n",
      "Mean scare error : 0.563154062988657\n",
      "   fixed acidity  volatile acidity  citric acid  residual sugar  chlorides  \\\n",
      "0            7.0              0.27         0.36            20.7      0.045   \n",
      "1            6.3              0.30         0.34             1.6      0.049   \n",
      "2            8.1              0.28         0.40             6.9      0.050   \n",
      "3            7.2              0.23         0.32             8.5      0.058   \n",
      "4            7.2              0.23         0.32             8.5      0.058   \n",
      "\n",
      "   free sulfur dioxide  total sulfur dioxide  density    pH  sulphates  \\\n",
      "0                 45.0                 170.0   1.0010  3.00       0.45   \n",
      "1                 14.0                 132.0   0.9940  3.30       0.49   \n",
      "2                 30.0                  97.0   0.9951  3.26       0.44   \n",
      "3                 47.0                 186.0   0.9956  3.19       0.40   \n",
      "4                 47.0                 186.0   0.9956  3.19       0.40   \n",
      "\n",
      "   alcohol  quality  \n",
      "0      8.8        6  \n",
      "1      9.5        6  \n",
      "2     10.1        6  \n",
      "3      9.9        6  \n",
      "4      9.9        6  \n"
     ]
    }
   ],
   "source": [
    "from sklearn.linear_model import LinearRegression\n",
    "from sklearn.metrics import mean_squared_error\n",
    "\n",
    "\n",
    "#We started by creating our model with learning Regressio,\n",
    "model = LinearRegression()\n",
    "\n",
    "#We then split the data into the input and output\n",
    "X = white_wine_data.drop('quality', axis=1)\n",
    "y = white_wine_data['quality']\n",
    "model.fit(X, y)\n",
    "\n",
    "#Print the coefficients\n",
    "print(\"coef : \", model.coef_)\n",
    "print(\"intercept_ : \",model.intercept_)\n",
    "\n",
    "#Then we make the prediction\n",
    "y_pred = model.predict(X)\n",
    "\n",
    "#Calculate the mean squared error\n",
    "mse = mean_squared_error(y, y_pred)\n",
    "print(\"Mean scare error :\", mse)\n",
    "\n",
    "print(white_wine_data.head(5))"
   ]
  },
  {
   "cell_type": "markdown",
   "metadata": {},
   "source": [
    "### Interpretation\n",
    "\n"
   ]
  },
  {
   "cell_type": "markdown",
   "metadata": {},
   "source": [
    "L'intercept est la valeur prédite de la variable de sortie lorsque toutes les variables d'entrée sont nulles. Il représente le point de départ de la ligne de régression.\n",
    "Ici sa valeur est de 150? ceci n'a pas de sens \n",
    "\n",
    "Pour les coefficients, ceci indique comment les variables affectent la variable de sortie. Un coefficient indique une relation positive tandis qu'un coefficient négatif indique une relation négative."
   ]
  }
 ],
 "metadata": {
  "kernelspec": {
   "display_name": "Python 3",
   "language": "python",
   "name": "python3"
  },
  "language_info": {
   "codemirror_mode": {
    "name": "ipython",
    "version": 3
   },
   "file_extension": ".py",
   "mimetype": "text/x-python",
   "name": "python",
   "nbconvert_exporter": "python",
   "pygments_lexer": "ipython3",
   "version": "3.11.5"
  }
 },
 "nbformat": 4,
 "nbformat_minor": 2
}
